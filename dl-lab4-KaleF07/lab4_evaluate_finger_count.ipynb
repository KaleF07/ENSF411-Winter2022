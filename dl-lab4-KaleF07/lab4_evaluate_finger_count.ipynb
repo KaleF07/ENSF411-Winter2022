{
  "cells": [
    {
      "cell_type": "markdown",
      "metadata": {
        "id": "zNHBSCcc1aH0"
      },
      "source": [
        "# 0. Assessment strategy "
      ]
    },
    {
      "cell_type": "markdown",
      "metadata": {
        "id": "NQ-8uTnp1aH4"
      },
      "source": [
        "### Question 1: State which assessment strategy you have chosen and explain how you have implemented it.\n",
        "\n",
        "The assessment strategy I have chosen is to acquire a test dataset. To do this, I will use the gui that I created in lab 2 to gather examples of each digit that I can save in a testing set. From there, I will use this set to create predictions with the model I saved in lab 3 and assess the model to see if it accurately predicts the digits."
      ]
    },
    {
      "cell_type": "markdown",
      "metadata": {
        "id": "MneIN0Sw1aH5"
      },
      "source": [
        "# 1. Analyze results from production prototype\n",
        "\n",
        "At least 5 examples for each digit should be available and stored in `lab4-results.csv` and compute:\n",
        "- accuracy\n",
        "- confusion matrix \n",
        "\n",
        "here.\n"
      ]
    },
    {
      "cell_type": "code",
      "execution_count": 74,
      "metadata": {
        "id": "y_nwbe4g1aH7"
      },
      "outputs": [],
      "source": [
        "!pip install -Uqq fastbook\n",
        "import fastbook\n",
        "fastbook.setup_book()\n",
        "from fastbook import *\n",
        "from fastai.vision.all import *\n",
        "from sklearn.metrics import confusion_matrix,accuracy_score\n",
        "import pandas as pd"
      ]
    },
    {
      "cell_type": "code",
      "source": [
        "path = Path('/content/gdrive/MyDrive/Colab Notebooks/digits/')\n",
        "csv_path = Path('/content/gdrive/MyDrive/Colab Notebooks/lab4-results.csv')"
      ],
      "metadata": {
        "id": "XsT8MliNHr2t"
      },
      "execution_count": 79,
      "outputs": []
    },
    {
      "cell_type": "code",
      "source": [
        "import_path = Path('/content/gdrive/MyDrive/Colab Notebooks/models/finger_count.pkl')\n",
        "learn = load_learner(import_path)"
      ],
      "metadata": {
        "id": "FSVkdAI3Hwfc"
      },
      "execution_count": 7,
      "outputs": []
    },
    {
      "cell_type": "code",
      "source": [
        "pred1 = learn.predict(path/'test/five/00000005.jpg')\n",
        "pred1"
      ],
      "metadata": {
        "colab": {
          "base_uri": "https://localhost:8080/",
          "height": 69
        },
        "id": "eaH6SY2mKPIC",
        "outputId": "06fc78d6-41bb-4134-c268-e4af88d17cda"
      },
      "execution_count": 73,
      "outputs": [
        {
          "output_type": "display_data",
          "data": {
            "text/plain": [
              "<IPython.core.display.HTML object>"
            ],
            "text/html": [
              "\n",
              "<style>\n",
              "    /* Turns off some styling */\n",
              "    progress {\n",
              "        /* gets rid of default border in Firefox and Opera. */\n",
              "        border: none;\n",
              "        /* Needs to be in here for Safari polyfill so background images work as expected. */\n",
              "        background-size: auto;\n",
              "    }\n",
              "    .progress-bar-interrupted, .progress-bar-interrupted::-webkit-progress-bar {\n",
              "        background: #F44336;\n",
              "    }\n",
              "</style>\n"
            ]
          },
          "metadata": {}
        },
        {
          "output_type": "display_data",
          "data": {
            "text/plain": [
              "<IPython.core.display.HTML object>"
            ],
            "text/html": [
              ""
            ]
          },
          "metadata": {}
        },
        {
          "output_type": "execute_result",
          "data": {
            "text/plain": [
              "('five',\n",
              " TensorBase(0),\n",
              " TensorBase([8.0439e-01, 4.3424e-03, 1.7574e-01, 1.5282e-02, 2.4908e-04]))"
            ]
          },
          "metadata": {},
          "execution_count": 73
        }
      ]
    },
    {
      "cell_type": "code",
      "source": [
        "df = pd.read_csv(csv_path)\n",
        "df"
      ],
      "metadata": {
        "id": "_RiIwfcYbG9o",
        "outputId": "f93a0192-7091-460a-e70b-182f1220d581",
        "colab": {
          "base_uri": "https://localhost:8080/",
          "height": 833
        }
      },
      "execution_count": 82,
      "outputs": [
        {
          "output_type": "execute_result",
          "data": {
            "text/plain": [
              "    actual  predicted\n",
              "0        1          1\n",
              "1        1          1\n",
              "2        1          1\n",
              "3        1          1\n",
              "4        1          1\n",
              "5        2          1\n",
              "6        2          1\n",
              "7        2          1\n",
              "8        2          1\n",
              "9        2          1\n",
              "10       3          1\n",
              "11       3          1\n",
              "12       3          1\n",
              "13       3          1\n",
              "14       3          1\n",
              "15       4          1\n",
              "16       4          1\n",
              "17       4          1\n",
              "18       4          1\n",
              "19       4          1\n",
              "20       5          1\n",
              "21       5          5\n",
              "22       5          1\n",
              "23       5          1\n",
              "24       5          5"
            ],
            "text/html": [
              "\n",
              "  <div id=\"df-63014115-626b-43ec-bbec-b9062d550c11\">\n",
              "    <div class=\"colab-df-container\">\n",
              "      <div>\n",
              "<style scoped>\n",
              "    .dataframe tbody tr th:only-of-type {\n",
              "        vertical-align: middle;\n",
              "    }\n",
              "\n",
              "    .dataframe tbody tr th {\n",
              "        vertical-align: top;\n",
              "    }\n",
              "\n",
              "    .dataframe thead th {\n",
              "        text-align: right;\n",
              "    }\n",
              "</style>\n",
              "<table border=\"1\" class=\"dataframe\">\n",
              "  <thead>\n",
              "    <tr style=\"text-align: right;\">\n",
              "      <th></th>\n",
              "      <th>actual</th>\n",
              "      <th>predicted</th>\n",
              "    </tr>\n",
              "  </thead>\n",
              "  <tbody>\n",
              "    <tr>\n",
              "      <th>0</th>\n",
              "      <td>1</td>\n",
              "      <td>1</td>\n",
              "    </tr>\n",
              "    <tr>\n",
              "      <th>1</th>\n",
              "      <td>1</td>\n",
              "      <td>1</td>\n",
              "    </tr>\n",
              "    <tr>\n",
              "      <th>2</th>\n",
              "      <td>1</td>\n",
              "      <td>1</td>\n",
              "    </tr>\n",
              "    <tr>\n",
              "      <th>3</th>\n",
              "      <td>1</td>\n",
              "      <td>1</td>\n",
              "    </tr>\n",
              "    <tr>\n",
              "      <th>4</th>\n",
              "      <td>1</td>\n",
              "      <td>1</td>\n",
              "    </tr>\n",
              "    <tr>\n",
              "      <th>5</th>\n",
              "      <td>2</td>\n",
              "      <td>1</td>\n",
              "    </tr>\n",
              "    <tr>\n",
              "      <th>6</th>\n",
              "      <td>2</td>\n",
              "      <td>1</td>\n",
              "    </tr>\n",
              "    <tr>\n",
              "      <th>7</th>\n",
              "      <td>2</td>\n",
              "      <td>1</td>\n",
              "    </tr>\n",
              "    <tr>\n",
              "      <th>8</th>\n",
              "      <td>2</td>\n",
              "      <td>1</td>\n",
              "    </tr>\n",
              "    <tr>\n",
              "      <th>9</th>\n",
              "      <td>2</td>\n",
              "      <td>1</td>\n",
              "    </tr>\n",
              "    <tr>\n",
              "      <th>10</th>\n",
              "      <td>3</td>\n",
              "      <td>1</td>\n",
              "    </tr>\n",
              "    <tr>\n",
              "      <th>11</th>\n",
              "      <td>3</td>\n",
              "      <td>1</td>\n",
              "    </tr>\n",
              "    <tr>\n",
              "      <th>12</th>\n",
              "      <td>3</td>\n",
              "      <td>1</td>\n",
              "    </tr>\n",
              "    <tr>\n",
              "      <th>13</th>\n",
              "      <td>3</td>\n",
              "      <td>1</td>\n",
              "    </tr>\n",
              "    <tr>\n",
              "      <th>14</th>\n",
              "      <td>3</td>\n",
              "      <td>1</td>\n",
              "    </tr>\n",
              "    <tr>\n",
              "      <th>15</th>\n",
              "      <td>4</td>\n",
              "      <td>1</td>\n",
              "    </tr>\n",
              "    <tr>\n",
              "      <th>16</th>\n",
              "      <td>4</td>\n",
              "      <td>1</td>\n",
              "    </tr>\n",
              "    <tr>\n",
              "      <th>17</th>\n",
              "      <td>4</td>\n",
              "      <td>1</td>\n",
              "    </tr>\n",
              "    <tr>\n",
              "      <th>18</th>\n",
              "      <td>4</td>\n",
              "      <td>1</td>\n",
              "    </tr>\n",
              "    <tr>\n",
              "      <th>19</th>\n",
              "      <td>4</td>\n",
              "      <td>1</td>\n",
              "    </tr>\n",
              "    <tr>\n",
              "      <th>20</th>\n",
              "      <td>5</td>\n",
              "      <td>1</td>\n",
              "    </tr>\n",
              "    <tr>\n",
              "      <th>21</th>\n",
              "      <td>5</td>\n",
              "      <td>5</td>\n",
              "    </tr>\n",
              "    <tr>\n",
              "      <th>22</th>\n",
              "      <td>5</td>\n",
              "      <td>1</td>\n",
              "    </tr>\n",
              "    <tr>\n",
              "      <th>23</th>\n",
              "      <td>5</td>\n",
              "      <td>1</td>\n",
              "    </tr>\n",
              "    <tr>\n",
              "      <th>24</th>\n",
              "      <td>5</td>\n",
              "      <td>5</td>\n",
              "    </tr>\n",
              "  </tbody>\n",
              "</table>\n",
              "</div>\n",
              "      <button class=\"colab-df-convert\" onclick=\"convertToInteractive('df-63014115-626b-43ec-bbec-b9062d550c11')\"\n",
              "              title=\"Convert this dataframe to an interactive table.\"\n",
              "              style=\"display:none;\">\n",
              "        \n",
              "  <svg xmlns=\"http://www.w3.org/2000/svg\" height=\"24px\"viewBox=\"0 0 24 24\"\n",
              "       width=\"24px\">\n",
              "    <path d=\"M0 0h24v24H0V0z\" fill=\"none\"/>\n",
              "    <path d=\"M18.56 5.44l.94 2.06.94-2.06 2.06-.94-2.06-.94-.94-2.06-.94 2.06-2.06.94zm-11 1L8.5 8.5l.94-2.06 2.06-.94-2.06-.94L8.5 2.5l-.94 2.06-2.06.94zm10 10l.94 2.06.94-2.06 2.06-.94-2.06-.94-.94-2.06-.94 2.06-2.06.94z\"/><path d=\"M17.41 7.96l-1.37-1.37c-.4-.4-.92-.59-1.43-.59-.52 0-1.04.2-1.43.59L10.3 9.45l-7.72 7.72c-.78.78-.78 2.05 0 2.83L4 21.41c.39.39.9.59 1.41.59.51 0 1.02-.2 1.41-.59l7.78-7.78 2.81-2.81c.8-.78.8-2.07 0-2.86zM5.41 20L4 18.59l7.72-7.72 1.47 1.35L5.41 20z\"/>\n",
              "  </svg>\n",
              "      </button>\n",
              "      \n",
              "  <style>\n",
              "    .colab-df-container {\n",
              "      display:flex;\n",
              "      flex-wrap:wrap;\n",
              "      gap: 12px;\n",
              "    }\n",
              "\n",
              "    .colab-df-convert {\n",
              "      background-color: #E8F0FE;\n",
              "      border: none;\n",
              "      border-radius: 50%;\n",
              "      cursor: pointer;\n",
              "      display: none;\n",
              "      fill: #1967D2;\n",
              "      height: 32px;\n",
              "      padding: 0 0 0 0;\n",
              "      width: 32px;\n",
              "    }\n",
              "\n",
              "    .colab-df-convert:hover {\n",
              "      background-color: #E2EBFA;\n",
              "      box-shadow: 0px 1px 2px rgba(60, 64, 67, 0.3), 0px 1px 3px 1px rgba(60, 64, 67, 0.15);\n",
              "      fill: #174EA6;\n",
              "    }\n",
              "\n",
              "    [theme=dark] .colab-df-convert {\n",
              "      background-color: #3B4455;\n",
              "      fill: #D2E3FC;\n",
              "    }\n",
              "\n",
              "    [theme=dark] .colab-df-convert:hover {\n",
              "      background-color: #434B5C;\n",
              "      box-shadow: 0px 1px 3px 1px rgba(0, 0, 0, 0.15);\n",
              "      filter: drop-shadow(0px 1px 2px rgba(0, 0, 0, 0.3));\n",
              "      fill: #FFFFFF;\n",
              "    }\n",
              "  </style>\n",
              "\n",
              "      <script>\n",
              "        const buttonEl =\n",
              "          document.querySelector('#df-63014115-626b-43ec-bbec-b9062d550c11 button.colab-df-convert');\n",
              "        buttonEl.style.display =\n",
              "          google.colab.kernel.accessAllowed ? 'block' : 'none';\n",
              "\n",
              "        async function convertToInteractive(key) {\n",
              "          const element = document.querySelector('#df-63014115-626b-43ec-bbec-b9062d550c11');\n",
              "          const dataTable =\n",
              "            await google.colab.kernel.invokeFunction('convertToInteractive',\n",
              "                                                     [key], {});\n",
              "          if (!dataTable) return;\n",
              "\n",
              "          const docLinkHtml = 'Like what you see? Visit the ' +\n",
              "            '<a target=\"_blank\" href=https://colab.research.google.com/notebooks/data_table.ipynb>data table notebook</a>'\n",
              "            + ' to learn more about interactive tables.';\n",
              "          element.innerHTML = '';\n",
              "          dataTable['output_type'] = 'display_data';\n",
              "          await google.colab.output.renderOutput(dataTable, element);\n",
              "          const docLink = document.createElement('div');\n",
              "          docLink.innerHTML = docLinkHtml;\n",
              "          element.appendChild(docLink);\n",
              "        }\n",
              "      </script>\n",
              "    </div>\n",
              "  </div>\n",
              "  "
            ]
          },
          "metadata": {},
          "execution_count": 82
        }
      ]
    },
    {
      "cell_type": "code",
      "source": [
        "confusion_matrix(df.actual, df.predicted)"
      ],
      "metadata": {
        "id": "eHkqUQUBb-Hl",
        "outputId": "d3b9f024-6f24-42fd-ea34-d0a1e189c8e2",
        "colab": {
          "base_uri": "https://localhost:8080/"
        }
      },
      "execution_count": 84,
      "outputs": [
        {
          "output_type": "execute_result",
          "data": {
            "text/plain": [
              "array([[5, 0, 0, 0, 0],\n",
              "       [5, 0, 0, 0, 0],\n",
              "       [5, 0, 0, 0, 0],\n",
              "       [5, 0, 0, 0, 0],\n",
              "       [3, 0, 0, 0, 2]])"
            ]
          },
          "metadata": {},
          "execution_count": 84
        }
      ]
    },
    {
      "cell_type": "code",
      "source": [
        "accuracy_score(df.actual, df.predicted)"
      ],
      "metadata": {
        "id": "n6cO9HWkcWxm",
        "outputId": "06dc370a-d799-4c6b-c667-fc6161c53e33",
        "colab": {
          "base_uri": "https://localhost:8080/"
        }
      },
      "execution_count": 86,
      "outputs": [
        {
          "output_type": "execute_result",
          "data": {
            "text/plain": [
              "0.28"
            ]
          },
          "metadata": {},
          "execution_count": 86
        }
      ]
    },
    {
      "cell_type": "markdown",
      "metadata": {
        "id": "C3xrwtYb1aH8"
      },
      "source": [
        "### Question 2: How many predictions did you analyse and how did you select the samples?\n",
        "\n",
        "I predicted 25 samples which included 5 of each digit. I selected the samples by using the gui created in lab 2 to save 5 samples of each digit, then uploaded the images to Google Drive."
      ]
    },
    {
      "cell_type": "markdown",
      "metadata": {
        "id": "0y50JyH81aH9"
      },
      "source": [
        "# 2. Summary and Conclusion\n",
        "Summarize:\n",
        "- Results from production analysis\n",
        "- Re-state training, validation results from Lab3\n",
        "\n",
        "My results coming from the prediction were not very successful. My accuracy was a score of 0.28. The prediction was used with a model that was tested and trained in lab 3. The model used 40 samples of each digit that were then split into train and test data. The images in training were warped to lessen the chance of overfitting of the model. The model was then saved and uploaded to Google Drive to predict in this lab.\n",
        "\n",
        "\n",
        "Conclusion:\n",
        "- Does validation accuracy translate to the production environment?\n",
        "- Are you satisfied with model performance? Why, why not?\n",
        "- Provide directions for future work, e.g. how could your model and task be improved?\n",
        "\n",
        "The validation accuracy translates to the production environment. During the validation, the model achieved an accuracy score of about 20-30 percent. This is a similar score that was achieved during prediction in the production environment. I am not very satisfied with the model performance, as I achieved quite a low accuracy score, but it is possible to retrain the model to ahcieve a higher accuracy. For future work, I can retrain the model using methods used in lab 3. From there, I can find a better learning rate than achieves a higher accuracy score, and save that model for use in the production environment. I can also use more training data with different variations so the model has less overfitting to the only data it has seen."
      ]
    },
    {
      "cell_type": "markdown",
      "metadata": {
        "id": "AS3uGv9i1aH-"
      },
      "source": [
        "# 3. Reflection\n",
        "Include a sentence or two about\n",
        "- what you liked or disliked,\n",
        "- found interesting, confusing, challangeing, motivating\n",
        "\n",
        "while working on this assignment.\n",
        "\n",
        "I liked that we were able to actually see the model that we've been creating the past couple weeks in actual production, and we can see for ourselves how well the model works and if we can improve it. What was motiating was when I saw that my model had a low accuracy score, I hope to improve the model in the future so it works a lot better.\n"
      ]
    },
    {
      "cell_type": "code",
      "execution_count": null,
      "metadata": {
        "id": "bKq_xujj1aH_"
      },
      "outputs": [],
      "source": [
        ""
      ]
    }
  ],
  "metadata": {
    "kernelspec": {
      "display_name": "Python 3 (ipykernel)",
      "language": "python",
      "name": "python3"
    },
    "language_info": {
      "codemirror_mode": {
        "name": "ipython",
        "version": 3
      },
      "file_extension": ".py",
      "mimetype": "text/x-python",
      "name": "python",
      "nbconvert_exporter": "python",
      "pygments_lexer": "ipython3",
      "version": "3.9.7"
    },
    "colab": {
      "name": "lab4_evaluate_finger_count.ipynb",
      "provenance": []
    }
  },
  "nbformat": 4,
  "nbformat_minor": 0
}